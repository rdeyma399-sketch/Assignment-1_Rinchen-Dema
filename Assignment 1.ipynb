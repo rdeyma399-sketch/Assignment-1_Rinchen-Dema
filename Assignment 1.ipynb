{
  "nbformat": 4,
  "nbformat_minor": 0,
  "metadata": {
    "colab": {
      "provenance": [],
      "authorship_tag": "ABX9TyNnFW6UwOm2YBlhrA04BPyl",
      "include_colab_link": true
    },
    "kernelspec": {
      "name": "python3",
      "display_name": "Python 3"
    },
    "language_info": {
      "name": "python"
    }
  },
  "cells": [
    {
      "cell_type": "markdown",
      "metadata": {
        "id": "view-in-github",
        "colab_type": "text"
      },
      "source": [
        "<a href=\"https://colab.research.google.com/github/rdeyma399-sketch/Assignment-1_Rinchen-Dema/blob/main/Assignment%201.ipynb\" target=\"_parent\"><img src=\"https://colab.research.google.com/assets/colab-badge.svg\" alt=\"Open In Colab\"/></a>"
      ]
    },
    {
      "cell_type": "code",
      "execution_count": null,
      "metadata": {
        "id": "kPsHN92rRIBe"
      },
      "outputs": [],
      "source": []
    },
    {
      "cell_type": "markdown",
      "source": [
        "Assigment 1 : (IF statement )\n"
      ],
      "metadata": {
        "id": "5WhJrpMrSShY"
      }
    },
    {
      "cell_type": "code",
      "source": [
        "age = int(input(\"Enter your age: \"))\n",
        "\n",
        "if age < 12:\n",
        "    price = 300\n",
        "\n",
        "if age >= 12 and age <= 17:\n",
        "    price = 500\n",
        "\n",
        "if age >= 18 and age <= 59:\n",
        "    price = 800\n",
        "\n",
        "if age >= 60:\n",
        "    price = 400\n",
        "\n",
        "print(\"Your ticket price is AMT:\", price)"
      ],
      "metadata": {
        "colab": {
          "base_uri": "https://localhost:8080/"
        },
        "id": "_opUROlhShq_",
        "outputId": "8beac2d5-658b-420a-fb8c-433ee9c1b480"
      },
      "execution_count": null,
      "outputs": [
        {
          "output_type": "stream",
          "name": "stdout",
          "text": [
            "Enter your age: 10\n",
            "Your ticket price is AMT: 300\n"
          ]
        }
      ]
    },
    {
      "cell_type": "markdown",
      "source": [
        "Assigment 2"
      ],
      "metadata": {
        "id": "dtOHvkVAVr7C"
      }
    },
    {
      "cell_type": "code",
      "source": [
        "num = int(input(\"Enter a number: \"))\n",
        "\n",
        "for i in range(num + 1):\n",
        "    if i % 3 == 0:\n",
        "        print(i)"
      ],
      "metadata": {
        "colab": {
          "base_uri": "https://localhost:8080/"
        },
        "id": "UjvjUkPqV3ug",
        "outputId": "75fb07b0-68f9-47f4-ca54-164378611b29"
      },
      "execution_count": 2,
      "outputs": [
        {
          "output_type": "stream",
          "name": "stdout",
          "text": [
            "Enter a number: 2\n",
            "0\n"
          ]
        }
      ]
    },
    {
      "cell_type": "markdown",
      "source": [
        "Assignment 3"
      ],
      "metadata": {
        "id": "W8DQKw7_V_IL"
      }
    },
    {
      "cell_type": "code",
      "source": [
        "secret = 7  # the secret number\n",
        "guess = int(input(\"Guess the secret number: \"))\n",
        "\n",
        "while guess != secret:\n",
        "    guess = int(input(\"Wrong! Try again: \"))\n",
        "\n",
        "print(\"Congratulations, you guessed it right!\")"
      ],
      "metadata": {
        "colab": {
          "base_uri": "https://localhost:8080/"
        },
        "id": "PyTqCLeaWH9a",
        "outputId": "78874412-b24d-47fb-884f-7f404737f74f"
      },
      "execution_count": 3,
      "outputs": [
        {
          "output_type": "stream",
          "name": "stdout",
          "text": [
            "Guess the secret number: 1\n",
            "Wrong! Try again: 2\n",
            "Wrong! Try again: 3\n",
            "Wrong! Try again: 4\n",
            "Wrong! Try again: 5\n",
            "Wrong! Try again: 6\n",
            "Wrong! Try again: 7\n",
            "Congratulations, you guessed it right!\n"
          ]
        }
      ]
    },
    {
      "cell_type": "markdown",
      "source": [
        "Assignment 4\n",
        "Research and practice the following about the functions:\n",
        "\n",
        "How to write keywords arguements Variable number of arguments *args -**kwargs"
      ],
      "metadata": {
        "id": "24QhgHQdWOwc"
      }
    },
    {
      "cell_type": "code",
      "source": [
        "# *args\n",
        "def add_numbers(*args):\n",
        "    total = 0\n",
        "    for num in args:\n",
        "        total += num\n",
        "    print(\"Sum:\", total)\n",
        "\n",
        "add_numbers(5, 5)\n",
        "add_numbers(1, 2, 3, 4, 5)"
      ],
      "metadata": {
        "colab": {
          "base_uri": "https://localhost:8080/"
        },
        "id": "fkXAvu7oWcIh",
        "outputId": "d4515fd6-6ac0-42fc-d06c-d8608f7beffc"
      },
      "execution_count": 4,
      "outputs": [
        {
          "output_type": "stream",
          "name": "stdout",
          "text": [
            "Sum: 10\n",
            "Sum: 15\n"
          ]
        }
      ]
    },
    {
      "cell_type": "code",
      "source": [
        "# *kwargs\n",
        "def show_details(**kwargs):\n",
        "    for key, value in kwargs.items():\n",
        "        print(f\"{key}: {value}\")\n",
        "\n",
        "show_details(name=\"Rinchen\", age=23, country=\"Bhutan\")\n"
      ],
      "metadata": {
        "colab": {
          "base_uri": "https://localhost:8080/"
        },
        "id": "Z8kk2GwqWfUb",
        "outputId": "dde0a4fd-85f0-4d55-d123-0733e25ed620"
      },
      "execution_count": 5,
      "outputs": [
        {
          "output_type": "stream",
          "name": "stdout",
          "text": [
            "name: Rinchen\n",
            "age: 23\n",
            "country: Bhutan\n"
          ]
        }
      ]
    },
    {
      "cell_type": "markdown",
      "source": [
        "Assignment on Functions"
      ],
      "metadata": {
        "id": "dCMsA6CIWp5v"
      }
    },
    {
      "cell_type": "code",
      "source": [
        "def calculate_grade(marks):\n",
        "    if marks >= 90:\n",
        "        return \"A\"\n",
        "    if marks >= 80:\n",
        "        return \"B\"\n",
        "    if marks >= 70:\n",
        "        return \"C\"\n",
        "    if marks >= 60:\n",
        "        return \"D\"\n",
        "    return \"F\"\n",
        "\n",
        "marks = int(input(\"Enter your marks (0-100): \"))\n",
        "print(\"Your grade is\", calculate_grade(marks))"
      ],
      "metadata": {
        "colab": {
          "base_uri": "https://localhost:8080/"
        },
        "id": "oRcce0LdWrdP",
        "outputId": "45eff542-d3e0-4997-f11e-0bc5ea07a830"
      },
      "execution_count": 6,
      "outputs": [
        {
          "output_type": "stream",
          "name": "stdout",
          "text": [
            "Enter your marks (0-100): 60\n",
            "Your grade is D\n"
          ]
        }
      ]
    }
  ]
}